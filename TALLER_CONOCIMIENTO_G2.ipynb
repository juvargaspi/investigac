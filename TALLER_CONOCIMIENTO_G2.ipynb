{
  "nbformat": 4,
  "nbformat_minor": 0,
  "metadata": {
    "colab": {
      "provenance": [],
      "toc_visible": true,
      "authorship_tag": "ABX9TyMMwnFxQzdphuq2pFYfRAf4",
      "include_colab_link": true
    },
    "kernelspec": {
      "name": "python3",
      "display_name": "Python 3"
    },
    "language_info": {
      "name": "python"
    }
  },
  "cells": [
    {
      "cell_type": "markdown",
      "metadata": {
        "id": "view-in-github",
        "colab_type": "text"
      },
      "source": [
        "<a href=\"https://colab.research.google.com/github/juvargaspi/investigac/blob/main/TALLER_CONOCIMIENTO_G2.ipynb\" target=\"_parent\"><img src=\"https://colab.research.google.com/assets/colab-badge.svg\" alt=\"Open In Colab\"/></a>"
      ]
    },
    {
      "cell_type": "code",
      "execution_count": null,
      "metadata": {
        "id": "S-mkh7ekUSau"
      },
      "outputs": [],
      "source": [
        "# ESTO ES UN SUBTITULO"
      ]
    },
    {
      "cell_type": "code",
      "source": [
        "ESTO ES UN SUBTITULO"
      ],
      "metadata": {
        "id": "2oQAKHtpU7kL"
      },
      "execution_count": null,
      "outputs": []
    },
    {
      "cell_type": "markdown",
      "source": [
        "**HOLA**\n"
      ],
      "metadata": {
        "id": "X6rcOnN2Vp7z"
      }
    },
    {
      "cell_type": "markdown",
      "source": [],
      "metadata": {
        "id": "aVBPpAzAVAw7"
      }
    },
    {
      "cell_type": "markdown",
      "source": [
        "ESTO ES UN TITULO"
      ],
      "metadata": {
        "id": "T76hg5oAV15K"
      }
    },
    {
      "cell_type": "code",
      "source": [
        "print(\"Hola, mundo\")"
      ],
      "metadata": {
        "colab": {
          "base_uri": "https://localhost:8080/"
        },
        "id": "LgVTIWKmWPAT",
        "outputId": "b19d1f9a-0891-49a0-f168-7433959cb4a5"
      },
      "execution_count": null,
      "outputs": [
        {
          "output_type": "stream",
          "name": "stdout",
          "text": [
            "Hola, mundo\n"
          ]
        }
      ]
    }
  ]
}